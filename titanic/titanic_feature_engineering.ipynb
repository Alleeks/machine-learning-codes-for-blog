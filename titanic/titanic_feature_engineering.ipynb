{
 "cells": [
  {
   "cell_type": "markdown",
   "metadata": {},
   "source": [
    "# Titanicデータを用いたデータ分析<br>\n",
    "## Feature Engineering編\n",
    "alleeksテックブログ機械学習編のコードです。kaggleのnotebook状で実行可能なコードになっています。<br>\n",
    "EDA編の続きからになっていますので、もし手元で確認される場合は、EDA編のコードを実行した後に、続けてください。"
   ]
  },
  {
   "cell_type": "code",
   "execution_count": null,
   "metadata": {},
   "outputs": [],
   "source": [
    "#EmbarkedカラムをSで補間\n",
    "train_df.loc[train_df.Embarked.isnull(), \"Embarked\"] = \"S\""
   ]
  },
  {
   "cell_type": "code",
   "execution_count": null,
   "metadata": {},
   "outputs": [],
   "source": [
    "#Cabinカラムを列ごと削除\n",
    "train_df.drop(['Cabin'],axis=1,inplace=True)"
   ]
  },
  {
   "cell_type": "code",
   "execution_count": null,
   "metadata": {},
   "outputs": [],
   "source": [
    "#Nameカラムの値のうち、敬称を重複無しで抽出。\n",
    "set(train_df.Name.str.extract(' ([A-Za-z]+)\\.', expand=False))"
   ]
  },
  {
   "cell_type": "code",
   "execution_count": null,
   "metadata": {},
   "outputs": [],
   "source": [
    "#敬称の出現回数をカウント\n",
    "train_df.Name.str.extract('([A-Za-z]+)\\.', expand=False).value_counts()"
   ]
  },
  {
   "cell_type": "code",
   "execution_count": null,
   "metadata": {},
   "outputs": [],
   "source": [
    "#敬称を値にもつhonorificsカラムを新たに作成する\n",
    "train_df['honorifics'] = train_df.Name.str.extract(' ([A-Za-z]+)\\.', expand=False)"
   ]
  },
  {
   "cell_type": "code",
   "execution_count": null,
   "metadata": {},
   "outputs": [],
   "source": [
    "#honorificsカラムを作成できているか確認する\n",
    "train_df.head()"
   ]
  },
  {
   "cell_type": "code",
   "execution_count": null,
   "metadata": {},
   "outputs": [],
   "source": [
    "#honorificsカラムの値でグループ化しAgeカラムの値の平均を計算する\n",
    "train_df.groupby(['honorifics'])['Age'].mean()"
   ]
  },
  {
   "cell_type": "code",
   "execution_count": null,
   "metadata": {},
   "outputs": [],
   "source": [
    "#Ageカラムが欠損している部分に敬称をもとに値を代入する\n",
    "train_df.loc[(train_df.Age.isnull())&(train_df.honorifics==\"Col\"), \"Age\"]=58\n",
    "train_df.loc[(train_df.Age.isnull())&(train_df.honorifics==\"Dr\"), \"Age\"]=42\n",
    "train_df.loc[(train_df.Age.isnull())&(train_df.honorifics==\"Major\"), \"Age\"]=49\n",
    "train_df.loc[(train_df.Age.isnull())&(train_df.honorifics==\"Master\"), \"Age\"]=5\n",
    "train_df.loc[(train_df.Age.isnull())&(train_df.honorifics==\"Miss\"), \"Age\"]=22\n",
    "train_df.loc[(train_df.Age.isnull())&(train_df.honorifics==\"Mlle\"), \"Age\"]=24\n",
    "train_df.loc[(train_df.Age.isnull())&(train_df.honorifics==\"Mr\"), \"Age\"]=32\n",
    "train_df.loc[(train_df.Age.isnull())&(train_df.honorifics==\"Mrs\"), \"Age\"]=36\n",
    "train_df.loc[(train_df.Age.isnull())&(train_df.honorifics==\"Rev\"), \"Age\"]=43"
   ]
  },
  {
   "cell_type": "code",
   "execution_count": null,
   "metadata": {},
   "outputs": [],
   "source": [
    "#欠損値が補間できているか確認する\n",
    "train_df.isnull().sum()"
   ]
  },
  {
   "cell_type": "code",
   "execution_count": null,
   "metadata": {},
   "outputs": [],
   "source": [
    "#FamilyカラムとAloneカラムを新たに作成する\n",
    "train_df[\"Family\"] = 0\n",
    "train_df[\"Family\"] = train_df[\"Parch\"] + train_df[\"SibSp\"]\n",
    "train_df[\"Alone\"] = 0\n",
    "train_df.loc[train_df.Family==0, \"Alone\"] = 1"
   ]
  },
  {
   "cell_type": "code",
   "execution_count": null,
   "metadata": {},
   "outputs": [],
   "source": [
    "#FamilyカラムとSurvivedカラムの関係・AloneカラムとSurvivedカラムの関係を可視化\n",
    "f, ax = plt.subplots(1, 2, figsize=(18, 6))\n",
    "sns.factorplot(\"Family\", \"Survived\", data=train_df, ax=ax[0])\n",
    "ax[0].set_title(\"Family vs Survived\")\n",
    "sns.factorplot(\"Alone\", \"Survived\", data=train_df, ax=ax[1])\n",
    "ax[1].set_title(\"Alone vs Survived\")\n",
    "plt.close(2)\n",
    "plt.close(3)\n",
    "plt.show()"
   ]
  },
  {
   "cell_type": "code",
   "execution_count": null,
   "metadata": {},
   "outputs": [],
   "source": [
    "#Sexカラム、Embarkedカラムの値を文字列型から数値型に変換する\n",
    "train_df[\"Sex\"].replace([\"male\", \"female\"], [0, 1], inplace=True)\n",
    "train_df[\"Embarked\"].replace([\"S\", \"C\", \"Q\"], [0, 1, 2], inplace=True)"
   ]
  },
  {
   "cell_type": "code",
   "execution_count": null,
   "metadata": {},
   "outputs": [],
   "source": [
    "#不要な列を削除する\n",
    "train_df.drop([\"PassengerId\", \"Name\", \"Ticket\", \"honorifics\"], axis=1, inplace=True)"
   ]
  },
  {
   "cell_type": "code",
   "execution_count": null,
   "metadata": {},
   "outputs": [],
   "source": [
    "#モデルを学習する直前の特徴量の相関関係を可視化する\n",
    "sns.heatmap(train_df.corr(), annot=True, cmap=\"RdYlGn\", linewidth=0.2, annot_kws={\"size\": 20})\n",
    "fig=plt.gcf()\n",
    "fig.set_size_inches(18, 15)\n",
    "plt.xticks(fontsize=14)\n",
    "plt.yticks(fontsize=14)\n",
    "plt.show()"
   ]
  }
 ],
 "metadata": {
  "kernelspec": {
   "display_name": "Python 3",
   "language": "python",
   "name": "python3"
  },
  "language_info": {
   "codemirror_mode": {
    "name": "ipython",
    "version": 3
   },
   "file_extension": ".py",
   "mimetype": "text/x-python",
   "name": "python",
   "nbconvert_exporter": "python",
   "pygments_lexer": "ipython3",
   "version": "3.7.3"
  }
 },
 "nbformat": 4,
 "nbformat_minor": 2
}
