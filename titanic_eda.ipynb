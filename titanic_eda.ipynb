{
 "cells": [
  {
   "cell_type": "markdown",
   "metadata": {},
   "source": [
    "# Titanicデータを用いたデータ分析<br>\n",
    "## EDA編\n",
    "alleeksテックブログ機械学習編のコードです。\n",
    "kaggleのnotebook上で実行可能なコードになっています。手元にデータを落として利用される場合は、ディレクトリなどを変更しながら実行してみてください。"
   ]
  },
  {
   "cell_type": "code",
   "execution_count": null,
   "metadata": {},
   "outputs": [],
   "source": [
    "#今後分析していく中で必要なライブラリをimportします\n",
    "import os \n",
    "import pandas as pd \n",
    "import numpy as np \n",
    "import matplotlib.pyplot as plt \n",
    "import seaborn as sns \n",
    "\n",
    "%matplotlib inline"
   ]
  },
  {
   "cell_type": "code",
   "execution_count": null,
   "metadata": {},
   "outputs": [],
   "source": [
    "#train_df, test_dfという名前でcsvファイルを読み込みます。\n",
    "train_df = pd.read_csv('../input/titanic/train.csv')\n",
    "test_df = pd.read_csv('../input/titanic/test.csv')"
   ]
  },
  {
   "cell_type": "code",
   "execution_count": null,
   "metadata": {},
   "outputs": [],
   "source": [
    "#Survivedのカラムに着目して、データを可視化します。\n",
    "f, ax = plt.subplots(1, 2, figsize=(18, 8))\n",
    "train_df[\"Survived\"].value_counts().plot.pie(explode=[0, 0.1], autopct=\"%1.1f%%\", ax=ax[0], shadow=True)\n",
    "ax[0].set_title(\"Survived\")\n",
    "ax[0].set_ylabel(\"\")\n",
    "sns.countplot(\"Survived\", data=train_df, ax=ax[1])\n",
    "ax[1].set_title(\"Survived\")\n",
    "plt.show()"
   ]
  },
  {
   "cell_type": "code",
   "execution_count": null,
   "metadata": {},
   "outputs": [],
   "source": [
    "#SexとSurvivedカラムでグループ化してデータを確認します。\n",
    "train_df.groupby([\"Sex\", \"Survived\"])[\"Survived\"].count()"
   ]
  },
  {
   "cell_type": "code",
   "execution_count": null,
   "metadata": {},
   "outputs": [],
   "source": [
    "#Sexカラムに着目したデータの分布、SexとSurvivedの関係性の2つを可視化します。\n",
    "f, ax = plt.subplots(1, 2, figsize=(18, 8))\n",
    "train_df[[\"Sex\", \"Survived\"]].groupby([\"Sex\"]).mean().plot.bar(ax=ax[0])\n",
    "ax[0].set_title(\"Survived vs Sex\")\n",
    "sns.countplot(\"Sex\", hue=\"Survived\", data=train_df, ax=ax[1])\n",
    "ax[1].set_title(\"Sex:Survived vs Dead\")\n",
    "plt.show()"
   ]
  },
  {
   "cell_type": "code",
   "execution_count": null,
   "metadata": {},
   "outputs": [],
   "source": [
    "#PclassとSurvivedの関係性をテーブルで表示します。\n",
    "pd.crosstab(train_df.Pclass, train_df.Survived, margins=True).style.background_gradient(cmap=\"summer_r\")"
   ]
  },
  {
   "cell_type": "code",
   "execution_count": null,
   "metadata": {},
   "outputs": [],
   "source": [
    "#Pclassに着目してデータを可視化します。また、PclassとSurvivedの関係性を可視化します。\n",
    "f, ax = plt.subplots(1, 2, figsize=(18, 8))\n",
    "train_df[\"Pclass\"].value_counts().plot.bar(color=['#CD7F32','#FFDF00','#D3D3D3'],ax=ax[0])\n",
    "ax[0].set_title(\"Number Of Passengers By Pclass\")\n",
    "ax[0].set_ylabel(\"Count\")\n",
    "sns.countplot(\"Pclass\", hue=\"Survived\", data=train_df, ax=ax[1])\n",
    "ax[1].set_title(\"Pclass:Survived vs Dead\")\n",
    "plt.show()"
   ]
  },
  {
   "cell_type": "code",
   "execution_count": null,
   "metadata": {},
   "outputs": [],
   "source": [
    "#Ageの最大値・最小値・中央値を表示します。\n",
    "print(\"Oldest Passenger was of:\", train_df[\"Age\"].max(), \"Years\")\n",
    "print(\"Youngest Passenger was of:\", train_df[\"Age\"].min(), \"Years\")\n",
    "print(\"Average Age on the ship:\", train_df[\"Age\"].mean(), \"Years\")"
   ]
  },
  {
   "cell_type": "code",
   "execution_count": null,
   "metadata": {},
   "outputs": [],
   "source": [
    "#PclassとAgeに着目して、Survivedとの関係性を表示します。\n",
    "#また、Sexのみに着目して、Survivedとの関係性も可視化します。\n",
    "f, ax = plt.subplots(1, 2, figsize=(18, 8))\n",
    "sns.violinplot(\"Pclass\", \"Age\", hue=\"Survived\", data=train_df, split=True, ax=ax[0])\n",
    "ax[0].set_title(\"Pclass and Age vs Survived\")\n",
    "ax[0].set_yticks(range(0, 110, 10))\n",
    "sns.violinplot(\"Sex\", \"Age\", hue=\"Survived\", data=train_df, split=True, ax=ax[1])\n",
    "ax[1].set_title(\"Sex and Age vs Survived\")\n",
    "ax[1].set_yticks(range(0, 110, 10))\n",
    "plt.show()"
   ]
  },
  {
   "cell_type": "code",
   "execution_count": null,
   "metadata": {},
   "outputs": [],
   "source": [
    "#EmbarkedとSurvivedの関係性をテーブルで表示します。\n",
    "pd.crosstab([train_df.Embarked], [train_df.Survived], margins=True).style.background_gradient(cmap=\"summer_r\")"
   ]
  },
  {
   "cell_type": "code",
   "execution_count": null,
   "metadata": {},
   "outputs": [],
   "source": [
    "#1.Embarkedに着目してデータを可視化します。\n",
    "#2.Embarked着目して、Sexとの関係性を可視化します。\n",
    "#3.Embarked着目して、Survivedとの関係性を可視化します。\n",
    "#4.EmbarkedとPclassに着目して、Survivedとの関係性を可視化します。\n",
    "f, ax = plt.subplots(2, 2, figsize=(20, 15))\n",
    "sns.countplot(\"Embarked\", data=train_df, ax=ax[0, 0])\n",
    "ax[0, 0,].set_title(\"No. Of Passenger Boarded\")\n",
    "sns.countplot(\"Embarked\", hue=\"Sex\", data=train_df, ax=ax[0, 1])\n",
    "ax[0, 1].set_title(\"Male-Female Split for Embarked\")\n",
    "sns.countplot(\"Embarked\", hue=\"Survived\", data=train_df, ax=ax[1, 0])\n",
    "ax[1, 0].set_title(\"Embarked vs Survived\")\n",
    "sns.countplot(\"Embarked\", hue=\"Pclass\", data=train_df, ax=ax[1, 1])\n",
    "ax[1, 1].set_title(\"Embarked vs Pclass\")\n",
    "plt.subplots_adjust(wspace=0.2, hspace=0.5)\n",
    "plt.show()"
   ]
  },
  {
   "cell_type": "code",
   "execution_count": null,
   "metadata": {},
   "outputs": [],
   "source": [
    "#SibSpとSurvivedとの関係性をテーブルで表示します。\n",
    "pd.crosstab([train_df.SibSp],[train_df.Survived]).style.background_gradient(cmap='summer_r')"
   ]
  },
  {
   "cell_type": "code",
   "execution_count": null,
   "metadata": {},
   "outputs": [],
   "source": [
    "#SibSpとSurvivedとの関係性を可視化します。\n",
    "sns.factorplot(\"SibSp\", \"Survived\", data=train_df)\n",
    "plt.show()"
   ]
  },
  {
   "cell_type": "code",
   "execution_count": null,
   "metadata": {},
   "outputs": [],
   "source": [
    "#SibSpとPclassとの関係性をテーブルで表示します。\n",
    "pd.crosstab(train_df.SibSp,train_df.Pclass).style.background_gradient(cmap='summer_r')"
   ]
  },
  {
   "cell_type": "code",
   "execution_count": null,
   "metadata": {},
   "outputs": [],
   "source": [
    "#ParchとPclassとの関係性をテーブルで表示します。\n",
    "pd.crosstab(train_df.Parch,train_df.Pclass).style.background_gradient(cmap='summer_r')"
   ]
  },
  {
   "cell_type": "code",
   "execution_count": null,
   "metadata": {},
   "outputs": [],
   "source": [
    "#ParchとSurvivedとの関係性を可視化します。\n",
    "sns.factorplot(\"Parch\", \"Survived\", data=train_df)\n",
    "plt.show()"
   ]
  },
  {
   "cell_type": "code",
   "execution_count": null,
   "metadata": {},
   "outputs": [],
   "source": [
    "#Fareの統計情報を表示します。\n",
    "train_df.Fare.describe(include=\"all\")"
   ]
  },
  {
   "cell_type": "code",
   "execution_count": null,
   "metadata": {},
   "outputs": [],
   "source": [
    "#Fareに着目してヒストグラムを表示します。\n",
    "sns.distplot(train_df.Fare)\n",
    "plt.show()"
   ]
  },
  {
   "cell_type": "code",
   "execution_count": null,
   "metadata": {},
   "outputs": [],
   "source": [
    "#Pclassに着目して、Fareのヒストグラムを表示します。\n",
    "f,ax=plt.subplots(1,3,figsize=(20,8))\n",
    "sns.distplot(train_df[train_df['Pclass']==1].Fare,ax=ax[0])\n",
    "ax[0].set_title('Fares in Pclass 1')\n",
    "sns.distplot(train_df[train_df['Pclass']==2].Fare,ax=ax[1])\n",
    "ax[1].set_title('Fares in Pclass 2')\n",
    "sns.distplot(train_df[train_df['Pclass']==3].Fare,ax=ax[2])\n",
    "ax[2].set_title('Fares in Pclass 3')\n",
    "plt.show()"
   ]
  },
  {
   "cell_type": "code",
   "execution_count": null,
   "metadata": {},
   "outputs": [],
   "source": [
    "#特徴量の相関関係を表示します。\n",
    "sns.heatmap(train_df.corr(),annot=True,cmap='RdYlGn',linewidths=0.2) \n",
    "fig=plt.gcf()\n",
    "fig.set_size_inches(10,8)\n",
    "plt.show()"
   ]
  },
  {
   "cell_type": "markdown",
   "metadata": {},
   "source": [
    "ここまでが、EDAとなります。<br>\n",
    "次のFeature Engineering編は、ここまでのコードを実行している前提で進めていきます。"
   ]
  }
 ],
 "metadata": {
  "kernelspec": {
   "display_name": "Python 3",
   "language": "python",
   "name": "python3"
  },
  "language_info": {
   "codemirror_mode": {
    "name": "ipython",
    "version": 3
   },
   "file_extension": ".py",
   "mimetype": "text/x-python",
   "name": "python",
   "nbconvert_exporter": "python",
   "pygments_lexer": "ipython3",
   "version": "3.7.3"
  }
 },
 "nbformat": 4,
 "nbformat_minor": 2
}
