{
 "cells": [
  {
   "cell_type": "code",
   "execution_count": 1,
   "metadata": {
    "_cell_guid": "b1076dfc-b9ad-4769-8c92-a6c4dae69d19",
    "_uuid": "8f2839f25d086af736a60e9eeb907d3b93b6e0e5"
   },
   "outputs": [
    {
     "name": "stderr",
     "output_type": "stream",
     "text": [
      "Using TensorFlow backend.\n"
     ]
    }
   ],
   "source": [
    "import json\n",
    "import math\n",
    "import os\n",
    "import cv2\n",
    "from PIL import Image\n",
    "import numpy as np\n",
    "import pandas as pd\n",
    "import scipy\n",
    "from tqdm import tqdm\n",
    "import matplotlib.pyplot as plt\n",
    "%matplotlib inline\n",
    "\n",
    "from sklearn.model_selection import train_test_split\n",
    "from sklearn.metrics import cohen_kappa_score, accuracy_score\n",
    "\n",
    "import tensorflow as tf\n",
    "from keras import layers\n",
    "from keras.applications import DenseNet121\n",
    "from keras.callbacks import Callback, ModelCheckpoint\n",
    "from keras.preprocessing.image import ImageDataGenerator\n",
    "from keras.models import Sequential\n",
    "from keras.optimizers import Adam\n",
    "\n",
    "IMG_SIZE=224"
   ]
  },
  {
   "cell_type": "code",
   "execution_count": 2,
   "metadata": {
    "_cell_guid": "79c7e3d0-c299-4dcb-8224-4455121ee9b0",
    "_uuid": "d629ff2d2480ee46fbb7e2d37f6b5fab8052498a"
   },
   "outputs": [
    {
     "name": "stdout",
     "output_type": "stream",
     "text": [
      "['aptos2019-blindness-detection', 'densenet-keras']\n"
     ]
    }
   ],
   "source": [
    "import os\n",
    "print(os.listdir('../input/'))"
   ]
  },
  {
   "cell_type": "code",
   "execution_count": 3,
   "metadata": {},
   "outputs": [
    {
     "name": "stdout",
     "output_type": "stream",
     "text": [
      "(3662, 2)\n",
      "(1928, 1)\n"
     ]
    },
    {
     "data": {
      "text/html": [
       "<div>\n",
       "<style scoped>\n",
       "    .dataframe tbody tr th:only-of-type {\n",
       "        vertical-align: middle;\n",
       "    }\n",
       "\n",
       "    .dataframe tbody tr th {\n",
       "        vertical-align: top;\n",
       "    }\n",
       "\n",
       "    .dataframe thead th {\n",
       "        text-align: right;\n",
       "    }\n",
       "</style>\n",
       "<table border=\"1\" class=\"dataframe\">\n",
       "  <thead>\n",
       "    <tr style=\"text-align: right;\">\n",
       "      <th></th>\n",
       "      <th>id_code</th>\n",
       "      <th>diagnosis</th>\n",
       "    </tr>\n",
       "  </thead>\n",
       "  <tbody>\n",
       "    <tr>\n",
       "      <th>0</th>\n",
       "      <td>000c1434d8d7</td>\n",
       "      <td>2</td>\n",
       "    </tr>\n",
       "    <tr>\n",
       "      <th>1</th>\n",
       "      <td>001639a390f0</td>\n",
       "      <td>4</td>\n",
       "    </tr>\n",
       "    <tr>\n",
       "      <th>2</th>\n",
       "      <td>0024cdab0c1e</td>\n",
       "      <td>1</td>\n",
       "    </tr>\n",
       "    <tr>\n",
       "      <th>3</th>\n",
       "      <td>002c21358ce6</td>\n",
       "      <td>0</td>\n",
       "    </tr>\n",
       "    <tr>\n",
       "      <th>4</th>\n",
       "      <td>005b95c28852</td>\n",
       "      <td>0</td>\n",
       "    </tr>\n",
       "  </tbody>\n",
       "</table>\n",
       "</div>"
      ],
      "text/plain": [
       "        id_code  diagnosis\n",
       "0  000c1434d8d7          2\n",
       "1  001639a390f0          4\n",
       "2  0024cdab0c1e          1\n",
       "3  002c21358ce6          0\n",
       "4  005b95c28852          0"
      ]
     },
     "execution_count": 3,
     "metadata": {},
     "output_type": "execute_result"
    }
   ],
   "source": [
    "# training/testデータの読み込み\n",
    "train_df = pd.read_csv('../input/aptos2019-blindness-detection/train.csv')\n",
    "test_df = pd.read_csv('../input/aptos2019-blindness-detection/test.csv')\n",
    "\n",
    "# データの形状の確認\n",
    "print(train_df.shape)\n",
    "print(test_df.shape)\n",
    "\n",
    "# trainingデータの確認\n",
    "train_df.head()"
   ]
  },
  {
   "cell_type": "code",
   "execution_count": 4,
   "metadata": {},
   "outputs": [],
   "source": [
    "def crop_img(img, tol=7):\n",
    "    if img.ndim == 2:\n",
    "        mask = img > tol\n",
    "        return img[np.ix_(mask.any(1), mask.any(0))]\n",
    "    elif img.ndim == 3:\n",
    "        gray_img = cv2.cvtColor(img, cv2.COLOR_RGB2GRAY)\n",
    "        mask = gray_img > tol\n",
    "        check_shape = img[:, :, 0][np.ix_(mask.any(1), mask.any(0))].shape[0]\n",
    "        if check_shape == 0:\n",
    "            return img\n",
    "        else:\n",
    "            img1 = img[:, :, 0][np.ix_(mask.any(1), mask.any(0))]\n",
    "            img2 = img[:, :, 1][np.ix_(mask.any(1), mask.any(0))]\n",
    "            img3 = img[:, :, 2][np.ix_(mask.any(1), mask.any(0))]\n",
    "            img = np.stack([img1, img2, img3], axis=-1)\n",
    "        return img\n",
    "\n",
    "def preprocess_image(image_path, size=IMG_SIZE):\n",
    "    img = cv2.imread(image_path)\n",
    "    img = cv2.cvtColor(img, cv2.COLOR_BGR2RGB)\n",
    "    img = crop_img(img)\n",
    "    img = cv2.resize(img, (size, size))\n",
    "    img = cv2.addWeighted(img, 4, cv2.GaussianBlur(img, (0, 0), 10), -4, 128)\n",
    "    return img"
   ]
  },
  {
   "cell_type": "code",
   "execution_count": 5,
   "metadata": {},
   "outputs": [
    {
     "name": "stderr",
     "output_type": "stream",
     "text": [
      "100%|██████████| 3662/3662 [09:48<00:00,  6.22it/s]\n"
     ]
    }
   ],
   "source": [
    "N = train_df.shape[0]\n",
    "x_train = np.empty((N, IMG_SIZE, IMG_SIZE, 3), dtype=np.uint8)\n",
    "\n",
    "for i, image_id in enumerate(tqdm(train_df['id_code'])):\n",
    "    x_train[i, :, :, :] = preprocess_image(f'../input/aptos2019-blindness-detection/train_images/{image_id}.png')"
   ]
  },
  {
   "cell_type": "code",
   "execution_count": 6,
   "metadata": {},
   "outputs": [
    {
     "name": "stderr",
     "output_type": "stream",
     "text": [
      "100%|██████████| 1928/1928 [02:02<00:00, 15.80it/s]\n"
     ]
    }
   ],
   "source": [
    "# テストデータも同様に読み込みます\n",
    "N = test_df.shape[0]\n",
    "x_test = np.empty((N, IMG_SIZE, IMG_SIZE, 3), dtype=np.uint8)\n",
    "\n",
    "for i, image_id in enumerate(tqdm(test_df['id_code'])):\n",
    "    x_test[i, :, :, :] = preprocess_image(f'../input/aptos2019-blindness-detection/test_images/{image_id}.png')"
   ]
  },
  {
   "cell_type": "code",
   "execution_count": 7,
   "metadata": {},
   "outputs": [
    {
     "name": "stdout",
     "output_type": "stream",
     "text": [
      "(3662, 224, 224, 3)\n",
      "(3662, 5)\n",
      "(1928, 224, 224, 3)\n"
     ]
    }
   ],
   "source": [
    "y_train = pd.get_dummies(train_df['diagnosis']).values\n",
    "\n",
    "print(x_train.shape)\n",
    "#> (3662, 224, 224, 3)\n",
    "print(y_train.shape)\n",
    "#> (3662, 5)\n",
    "print(x_test.shape)\n",
    "#> (1928, 224, 224, 3)"
   ]
  },
  {
   "cell_type": "code",
   "execution_count": 8,
   "metadata": {},
   "outputs": [
    {
     "data": {
      "text/plain": [
       "array([[0, 0, 1, 0, 0],\n",
       "       [0, 0, 0, 0, 1],\n",
       "       [0, 1, 0, 0, 0],\n",
       "       ...,\n",
       "       [0, 0, 1, 0, 0],\n",
       "       [1, 0, 0, 0, 0],\n",
       "       [0, 0, 1, 0, 0]], dtype=uint8)"
      ]
     },
     "execution_count": 8,
     "metadata": {},
     "output_type": "execute_result"
    }
   ],
   "source": [
    "y_train"
   ]
  },
  {
   "cell_type": "markdown",
   "metadata": {},
   "source": [
    "ラベル[0, 1, 2, 3, 4]をCNNで学習できるように[[0, 0, 0, 0, 1], [0, 0, 0, 1, 0],...]のように、ダミー変数に変換する"
   ]
  },
  {
   "cell_type": "code",
   "execution_count": 9,
   "metadata": {},
   "outputs": [],
   "source": [
    "y_train_multi = np.empty(y_train.shape, dtype=y_train.dtype)\n",
    "y_train_multi[:, 4] = y_train[:, 4]\n",
    "for i in range(3, -1, -1):\n",
    "    y_train_multi[:, i] = np.logical_or(y_train[:, i], y_train_multi[:, i+1])"
   ]
  },
  {
   "cell_type": "code",
   "execution_count": 10,
   "metadata": {},
   "outputs": [
    {
     "name": "stdout",
     "output_type": "stream",
     "text": [
      "3\n",
      "2\n",
      "1\n",
      "0\n"
     ]
    }
   ],
   "source": [
    "for i in range(3, -1, -1):\n",
    "    print(i)"
   ]
  },
  {
   "cell_type": "code",
   "execution_count": 11,
   "metadata": {},
   "outputs": [
    {
     "data": {
      "text/plain": [
       "array([[0, 0, 1, 0, 0],\n",
       "       [0, 0, 0, 0, 1],\n",
       "       [0, 1, 0, 0, 0],\n",
       "       ...,\n",
       "       [0, 0, 1, 0, 0],\n",
       "       [1, 0, 0, 0, 0],\n",
       "       [0, 0, 1, 0, 0]], dtype=uint8)"
      ]
     },
     "execution_count": 11,
     "metadata": {},
     "output_type": "execute_result"
    }
   ],
   "source": [
    "y_train"
   ]
  },
  {
   "cell_type": "code",
   "execution_count": 12,
   "metadata": {},
   "outputs": [
    {
     "data": {
      "text/plain": [
       "array([[1, 1, 1, 0, 0],\n",
       "       [1, 1, 1, 1, 1],\n",
       "       [1, 1, 0, 0, 0],\n",
       "       ...,\n",
       "       [1, 1, 1, 0, 0],\n",
       "       [1, 0, 0, 0, 0],\n",
       "       [1, 1, 1, 0, 0]], dtype=uint8)"
      ]
     },
     "execution_count": 12,
     "metadata": {},
     "output_type": "execute_result"
    }
   ],
   "source": [
    "y_train_multi"
   ]
  },
  {
   "cell_type": "code",
   "execution_count": 13,
   "metadata": {},
   "outputs": [
    {
     "data": {
      "text/plain": [
       "0"
      ]
     },
     "execution_count": 13,
     "metadata": {},
     "output_type": "execute_result"
    }
   ],
   "source": [
    "y_train[1, 1]"
   ]
  },
  {
   "cell_type": "code",
   "execution_count": 14,
   "metadata": {},
   "outputs": [
    {
     "data": {
      "text/plain": [
       "array([[168,  18, 120,  92, 227],\n",
       "       [127,   0,   0, 168,  18],\n",
       "       [120,  92, 227, 127,   0],\n",
       "       ...,\n",
       "       [ 13,   0,  54,  15,   1],\n",
       "       [ 51,   9,   0,  54,  15],\n",
       "       [  1,  52,  16,   0,  48]], dtype=uint8)"
      ]
     },
     "execution_count": 14,
     "metadata": {},
     "output_type": "execute_result"
    }
   ],
   "source": [
    "y_train_temp = np.empty(y_train.shape, dtype=y_train.dtype)\n",
    "y_train_temp"
   ]
  },
  {
   "cell_type": "code",
   "execution_count": 15,
   "metadata": {},
   "outputs": [],
   "source": [
    "y_train_temp = np.empty(y_train.shape, dtype=y_train.dtype)\n",
    "y_train_temp[:, 4] = y_train[:, 4]"
   ]
  },
  {
   "cell_type": "code",
   "execution_count": 16,
   "metadata": {},
   "outputs": [
    {
     "data": {
      "text/plain": [
       "array([[0, 0, 1, 0, 0],\n",
       "       [0, 0, 0, 0, 1],\n",
       "       [0, 1, 0, 0, 0],\n",
       "       ...,\n",
       "       [0, 0, 1, 0, 0],\n",
       "       [1, 0, 0, 0, 0],\n",
       "       [0, 0, 1, 0, 0]], dtype=uint8)"
      ]
     },
     "execution_count": 16,
     "metadata": {},
     "output_type": "execute_result"
    }
   ],
   "source": [
    "y_train"
   ]
  },
  {
   "cell_type": "code",
   "execution_count": 17,
   "metadata": {},
   "outputs": [
    {
     "data": {
      "text/plain": [
       "array([[248,  18, 120,  92,   0],\n",
       "       [127,   0,   0, 248,   1],\n",
       "       [120,  92, 227, 127,   0],\n",
       "       ...,\n",
       "       [  0,   3,   0,   0,   0],\n",
       "       [  0,   0,   0,   0,   0],\n",
       "       [  0,   0,   0,   0,   0]], dtype=uint8)"
      ]
     },
     "execution_count": 17,
     "metadata": {},
     "output_type": "execute_result"
    }
   ],
   "source": [
    "y_train_temp"
   ]
  },
  {
   "cell_type": "code",
   "execution_count": 18,
   "metadata": {},
   "outputs": [
    {
     "name": "stdout",
     "output_type": "stream",
     "text": [
      "1\n",
      "0\n"
     ]
    }
   ],
   "source": [
    "print(y_train_temp[1, 4])\n",
    "print(y_train[1, 3])"
   ]
  },
  {
   "cell_type": "code",
   "execution_count": 19,
   "metadata": {},
   "outputs": [
    {
     "data": {
      "text/plain": [
       "array([[0, 0, 1, 0, 0],\n",
       "       [0, 0, 0, 0, 1],\n",
       "       [0, 1, 0, 0, 0],\n",
       "       ...,\n",
       "       [0, 0, 1, 0, 0],\n",
       "       [1, 0, 0, 0, 0],\n",
       "       [0, 0, 1, 0, 0]], dtype=uint8)"
      ]
     },
     "execution_count": 19,
     "metadata": {},
     "output_type": "execute_result"
    }
   ],
   "source": [
    "y_train"
   ]
  },
  {
   "cell_type": "code",
   "execution_count": 20,
   "metadata": {},
   "outputs": [
    {
     "data": {
      "text/plain": [
       "array([[1, 1, 1, 0, 0],\n",
       "       [1, 1, 1, 1, 1],\n",
       "       [1, 1, 0, 0, 0],\n",
       "       ...,\n",
       "       [1, 1, 1, 0, 0],\n",
       "       [1, 0, 0, 0, 0],\n",
       "       [1, 1, 1, 0, 0]], dtype=uint8)"
      ]
     },
     "execution_count": 20,
     "metadata": {},
     "output_type": "execute_result"
    }
   ],
   "source": [
    "y_train_multi"
   ]
  },
  {
   "cell_type": "code",
   "execution_count": 21,
   "metadata": {},
   "outputs": [],
   "source": [
    "x_train, x_valid, y_train, y_valid = train_test_split(x_train, y_train_multi, test_size=0.15)"
   ]
  },
  {
   "cell_type": "code",
   "execution_count": 22,
   "metadata": {},
   "outputs": [],
   "source": [
    "BATCH_SIZE = 32\n",
    "\n",
    "# インスタンスを作成\n",
    "# zoom_range: 拡大縮小\n",
    "# fill_mode: 入力画像の境界周りの埋め込み方\n",
    "# cval: 境界周辺で利用される値\n",
    "# holizontal_flip: 左右反転\n",
    "# vertical_flip: 上下反転\n",
    "# rotation_range: 回転\n",
    "\n",
    "train_datagen = ImageDataGenerator(zoom_range=0.15, fill_mode='constant', cval=0, horizontal_flip=True, vertical_flip=True, rotation_range=360)\n",
    "\n",
    "# ジェネレータを作成\n",
    "# 拡張した画像データのバッチを生成する\n",
    "data_generator = train_datagen.flow(x_train, y_train, batch_size=BATCH_SIZE)"
   ]
  },
  {
   "cell_type": "code",
   "execution_count": 23,
   "metadata": {},
   "outputs": [],
   "source": [
    "class Metrics(Callback):\n",
    "    def on_train_begin(self, logs={}):\n",
    "        self.val_kappas = []\n",
    "    \n",
    "    def on_epoch_end(self, epoch, logs={}):\n",
    "        X_valid, y_valid = self.validation_data[:2]\n",
    "        # 例) sum([1, 1, 0, 0, 0]) - 1 = 2 - 1 = 1\n",
    "        # 上記のように計算することで元のラベルを算出できる\n",
    "        y_valid = y_valid.sum(axis=1) - 1\n",
    "\n",
    "        # 例) [0.52, 0.8, 0.3, 0.2, 0.4]>0.5 →[1, 1, 0, 0, 0]\n",
    "        y_pred = self.model.predict(X_valid) > 0.5\n",
    "        y_pred = y_pred.astype(int).sum(axis=1) - 1\n",
    "\n",
    "        # 真の値'y_valid'と予測値'y_pred'を用いて重み付き(='quadratic')カッパ係数を計算\n",
    "        _val_kappa = cohen_kappa_score(y_valid, y_pred, weights='quadratic')\n",
    "        self.val_kappas.append(_val_kappa)\n",
    "\n",
    "        print(f'valid_kappa: {_val_kappa: .4f}')\n",
    "\n",
    "        # 計算したカッパ係数が精度が上がっているか確認\n",
    "        if _val_kappa == max(self.val_kappas):\n",
    "            print('validation kappa has improved. Saving model...')\n",
    "            # 'model.h5'という名前でモデルを保存\n",
    "            self.model.save('model.h5')\n",
    "        return"
   ]
  },
  {
   "cell_type": "code",
   "execution_count": 24,
   "metadata": {},
   "outputs": [],
   "source": [
    "densenet = DenseNet121(weights='../input/densenet-keras/DenseNet-BC-121-32-no-top.h5', include_top=False, input_shape=(IMG_SIZE, IMG_SIZE, 3))"
   ]
  },
  {
   "cell_type": "code",
   "execution_count": 25,
   "metadata": {},
   "outputs": [],
   "source": [
    "model = Sequential()\n",
    "model.add(densenet)\n",
    "model.add(layers.GlobalAveragePooling2D())\n",
    "model.add(layers.Dropout(0.5))\n",
    "model.add(layers.Dense(5, activation='sigmoid'))\n",
    "\n",
    "model.compile(loss='binary_crossentropy', optimizer=Adam(lr=0.0005), metrics=['accuracy'])"
   ]
  },
  {
   "cell_type": "code",
   "execution_count": 26,
   "metadata": {},
   "outputs": [
    {
     "name": "stdout",
     "output_type": "stream",
     "text": [
      "Model: \"sequential_1\"\n",
      "_________________________________________________________________\n",
      "Layer (type)                 Output Shape              Param #   \n",
      "=================================================================\n",
      "densenet121 (Model)          (None, 7, 7, 1024)        7037504   \n",
      "_________________________________________________________________\n",
      "global_average_pooling2d_1 ( (None, 1024)              0         \n",
      "_________________________________________________________________\n",
      "dropout_1 (Dropout)          (None, 1024)              0         \n",
      "_________________________________________________________________\n",
      "dense_1 (Dense)              (None, 5)                 5125      \n",
      "=================================================================\n",
      "Total params: 7,042,629\n",
      "Trainable params: 6,958,981\n",
      "Non-trainable params: 83,648\n",
      "_________________________________________________________________\n"
     ]
    }
   ],
   "source": [
    "model.summary()"
   ]
  },
  {
   "cell_type": "code",
   "execution_count": 27,
   "metadata": {},
   "outputs": [
    {
     "name": "stdout",
     "output_type": "stream",
     "text": [
      "Epoch 1/15\n",
      "98/97 [==============================] - 131s 1s/step - loss: 0.2397 - accuracy: 0.8974 - val_loss: 0.3280 - val_accuracy: 0.9196\n",
      "valid_kappa:  0.7420\n",
      "validation kappa has improved. Saving model...\n",
      "Epoch 2/15\n",
      "98/97 [==============================] - 53s 540ms/step - loss: 0.1585 - accuracy: 0.9362 - val_loss: 0.2741 - val_accuracy: 0.9033\n",
      "valid_kappa:  0.7460\n",
      "validation kappa has improved. Saving model...\n",
      "Epoch 3/15\n",
      "98/97 [==============================] - 52s 535ms/step - loss: 0.1384 - accuracy: 0.9447 - val_loss: 0.1291 - val_accuracy: 0.9502\n",
      "valid_kappa:  0.8700\n",
      "validation kappa has improved. Saving model...\n",
      "Epoch 4/15\n",
      "98/97 [==============================] - 52s 535ms/step - loss: 0.1438 - accuracy: 0.9423 - val_loss: 0.1548 - val_accuracy: 0.9407\n",
      "valid_kappa:  0.8349\n",
      "Epoch 5/15\n",
      "98/97 [==============================] - 53s 536ms/step - loss: 0.1296 - accuracy: 0.9495 - val_loss: 0.2268 - val_accuracy: 0.9131\n",
      "valid_kappa:  0.7186\n",
      "Epoch 6/15\n",
      "98/97 [==============================] - 53s 542ms/step - loss: 0.1293 - accuracy: 0.9513 - val_loss: 0.1262 - val_accuracy: 0.9553\n",
      "valid_kappa:  0.8961\n",
      "validation kappa has improved. Saving model...\n",
      "Epoch 7/15\n",
      "98/97 [==============================] - 53s 538ms/step - loss: 0.1204 - accuracy: 0.9515 - val_loss: 0.1594 - val_accuracy: 0.9324\n",
      "valid_kappa:  0.7973\n",
      "Epoch 8/15\n",
      "98/97 [==============================] - 53s 536ms/step - loss: 0.1162 - accuracy: 0.9552 - val_loss: 0.1340 - val_accuracy: 0.9491\n",
      "valid_kappa:  0.8835\n",
      "Epoch 9/15\n",
      "98/97 [==============================] - 53s 537ms/step - loss: 0.1127 - accuracy: 0.9564 - val_loss: 0.1487 - val_accuracy: 0.9436\n",
      "valid_kappa:  0.8441\n",
      "Epoch 10/15\n",
      "98/97 [==============================] - 54s 548ms/step - loss: 0.1158 - accuracy: 0.9560 - val_loss: 0.1206 - val_accuracy: 0.9491\n",
      "valid_kappa:  0.8732\n",
      "Epoch 11/15\n",
      "98/97 [==============================] - 52s 533ms/step - loss: 0.1136 - accuracy: 0.9551 - val_loss: 0.2588 - val_accuracy: 0.9076\n",
      "valid_kappa:  0.7620\n",
      "Epoch 12/15\n",
      "98/97 [==============================] - 52s 536ms/step - loss: 0.1119 - accuracy: 0.9573 - val_loss: 0.2820 - val_accuracy: 0.9305\n",
      "valid_kappa:  0.7883\n",
      "Epoch 13/15\n",
      "98/97 [==============================] - 53s 540ms/step - loss: 0.1043 - accuracy: 0.9605 - val_loss: 0.1484 - val_accuracy: 0.9444\n",
      "valid_kappa:  0.8751\n",
      "Epoch 14/15\n",
      "98/97 [==============================] - 53s 537ms/step - loss: 0.1040 - accuracy: 0.9580 - val_loss: 0.2399 - val_accuracy: 0.9175\n",
      "valid_kappa:  0.7531\n",
      "Epoch 15/15\n",
      "98/97 [==============================] - 53s 538ms/step - loss: 0.1055 - accuracy: 0.9589 - val_loss: 0.1406 - val_accuracy: 0.9429\n",
      "valid_kappa:  0.8794\n"
     ]
    }
   ],
   "source": [
    "kappa_metrics = Metrics()\n",
    "\n",
    "history = model.fit_generator(data_generator, steps_per_epoch=x_train.shape[0]/BATCH_SIZE, epochs=15, validation_data=(x_valid, y_valid), callbacks=[kappa_metrics])"
   ]
  },
  {
   "cell_type": "code",
   "execution_count": 28,
   "metadata": {},
   "outputs": [
    {
     "data": {
      "text/html": [
       "<div>\n",
       "<style scoped>\n",
       "    .dataframe tbody tr th:only-of-type {\n",
       "        vertical-align: middle;\n",
       "    }\n",
       "\n",
       "    .dataframe tbody tr th {\n",
       "        vertical-align: top;\n",
       "    }\n",
       "\n",
       "    .dataframe thead th {\n",
       "        text-align: right;\n",
       "    }\n",
       "</style>\n",
       "<table border=\"1\" class=\"dataframe\">\n",
       "  <thead>\n",
       "    <tr style=\"text-align: right;\">\n",
       "      <th></th>\n",
       "      <th>val_loss</th>\n",
       "      <th>val_accuracy</th>\n",
       "      <th>loss</th>\n",
       "      <th>accuracy</th>\n",
       "    </tr>\n",
       "  </thead>\n",
       "  <tbody>\n",
       "    <tr>\n",
       "      <th>0</th>\n",
       "      <td>0.328038</td>\n",
       "      <td>0.919636</td>\n",
       "      <td>0.240305</td>\n",
       "      <td>0.897429</td>\n",
       "    </tr>\n",
       "    <tr>\n",
       "      <th>1</th>\n",
       "      <td>0.274147</td>\n",
       "      <td>0.903273</td>\n",
       "      <td>0.158975</td>\n",
       "      <td>0.936183</td>\n",
       "    </tr>\n",
       "    <tr>\n",
       "      <th>2</th>\n",
       "      <td>0.129131</td>\n",
       "      <td>0.950182</td>\n",
       "      <td>0.138780</td>\n",
       "      <td>0.944666</td>\n",
       "    </tr>\n",
       "    <tr>\n",
       "      <th>3</th>\n",
       "      <td>0.154835</td>\n",
       "      <td>0.940727</td>\n",
       "      <td>0.141781</td>\n",
       "      <td>0.942288</td>\n",
       "    </tr>\n",
       "    <tr>\n",
       "      <th>4</th>\n",
       "      <td>0.226774</td>\n",
       "      <td>0.913091</td>\n",
       "      <td>0.128091</td>\n",
       "      <td>0.949486</td>\n",
       "    </tr>\n",
       "  </tbody>\n",
       "</table>\n",
       "</div>"
      ],
      "text/plain": [
       "   val_loss  val_accuracy      loss  accuracy\n",
       "0  0.328038      0.919636  0.240305  0.897429\n",
       "1  0.274147      0.903273  0.158975  0.936183\n",
       "2  0.129131      0.950182  0.138780  0.944666\n",
       "3  0.154835      0.940727  0.141781  0.942288\n",
       "4  0.226774      0.913091  0.128091  0.949486"
      ]
     },
     "execution_count": 28,
     "metadata": {},
     "output_type": "execute_result"
    }
   ],
   "source": [
    "history_df = pd.DataFrame(history.history) \n",
    "history_df.head()"
   ]
  },
  {
   "cell_type": "code",
   "execution_count": 29,
   "metadata": {},
   "outputs": [
    {
     "data": {
      "text/plain": [
       "<matplotlib.axes._subplots.AxesSubplot at 0x7fddd0dd4ef0>"
      ]
     },
     "execution_count": 29,
     "metadata": {},
     "output_type": "execute_result"
    },
    {
     "data": {
      "image/png": "[encoded data removed]",
      "text/plain": [
       "<Figure size 432x288 with 1 Axes>"
      ]
     },
     "metadata": {
      "needs_background": "light"
     },
     "output_type": "display_data"
    },
    {
     "data": {
      "image/png": "[encoded data removed]",
      "text/plain": [
       "<Figure size 432x288 with 1 Axes>"
      ]
     },
     "metadata": {
      "needs_background": "light"
     },
     "output_type": "display_data"
    }
   ],
   "source": [
    "history_df[['loss', 'val_loss']].plot() \n",
    "history_df[['accuracy', 'val_accuracy']].plot()"
   ]
  },
  {
   "cell_type": "code",
   "execution_count": 30,
   "metadata": {},
   "outputs": [
    {
     "data": {
      "text/plain": [
       "[<matplotlib.lines.Line2D at 0x7fddc67c1588>]"
      ]
     },
     "execution_count": 30,
     "metadata": {},
     "output_type": "execute_result"
    },
    {
     "data": {
      "image/png": "[encoded data removed]",
      "text/plain": [
       "<Figure size 432x288 with 1 Axes>"
      ]
     },
     "metadata": {
      "needs_background": "light"
     },
     "output_type": "display_data"
    }
   ],
   "source": [
    "# 評価関数の推移を可視化\n",
    "plt.plot(kappa_metrics.val_kappas)"
   ]
  },
  {
   "cell_type": "code",
   "execution_count": 31,
   "metadata": {},
   "outputs": [],
   "source": [
    "# model作成時、精度が向上すると'model.h5'という名前で重みを保存していたので、model.h5にはもっとも良い重みが格納されている\n",
    "model.load_weights('model.h5')\n",
    "\n",
    "# テストデータで予測値を計算し、ラベルを変換する\n",
    "y_test = model.predict(x_test) > 0.5\n",
    "y_test = y_test.astype(int).sum(axis=1) - 1\n",
    "\n",
    "# test_dfの'diagnosis'カラムを置き換える\n",
    "test_df['diagnosis'] = y_test\n",
    "# 提出用ファイルに変換する\n",
    "test_df.to_csv('submission.csv', index=False)"
   ]
  },
  {
   "cell_type": "code",
   "execution_count": null,
   "metadata": {},
   "outputs": [],
   "source": []
  }
 ],
 "metadata": {
  "kernelspec": {
   "display_name": "Python 3",
   "language": "python",
   "name": "python3"
  },
  "language_info": {
   "codemirror_mode": {
    "name": "ipython",
    "version": 3
   },
   "file_extension": ".py",
   "mimetype": "text/x-python",
   "name": "python",
   "nbconvert_exporter": "python",
   "pygments_lexer": "ipython3",
   "version": "3.6.6"
  }
 },
 "nbformat": 4,
 "nbformat_minor": 4
}
