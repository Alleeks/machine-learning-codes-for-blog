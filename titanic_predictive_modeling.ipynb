{
 "cells": [
  {
   "cell_type": "markdown",
   "metadata": {},
   "source": [
    "# Titanicデータを用いたデータ分析<br>\n",
    "## Predictive Modeling編\n",
    "alleeksテックブログ機械学習編のコードです。kaggleのnotebook状で実行可能なコードになっています。<br>\n",
    "Feature Engineering編の続きからになっていますので、もし手元で確認される場合は、Feature Engineering編のコードを実行した後に、続けてください。"
   ]
  },
  {
   "cell_type": "code",
   "execution_count": null,
   "metadata": {},
   "outputs": [],
   "source": [
    "#以降使用するライブラリをimportする\n",
    "from sklearn.linear_model import LogisticRegression\n",
    "from sklearn.ensemble import RandomForestClassifier \n",
    "from sklearn.tree import DecisionTreeClassifier \n",
    "import lightgbm as lgm\n",
    "import xgboost as xg\n",
    "from sklearn.model_selection import cross_val_score\n",
    "from sklearn.model_selection import train_test_split \n",
    "from sklearn import metrics \n",
    "from sklearn.metrics import confusion_matrix "
   ]
  },
  {
   "cell_type": "code",
   "execution_count": null,
   "metadata": {},
   "outputs": [],
   "source": [
    "#トレーニングデータをtrainとvalidに分割する\n",
    "train, valid = train_test_split(train_df, test_size=0.3, random_state=0, stratify=train_df[\"Survived\"])\n",
    "train_X = train[train.columns[1:]]\n",
    "train_Y = train[train.columns[:1]]\n",
    "valid_X = valid[valid.columns[1:]]\n",
    "valid_Y = valid[valid.columns[:1]]\n",
    "#XGBoostは引数でvalidationデータのサイズを指定すればvalidationできるので、\n",
    "#そのために分割していないデータを作成しておく\n",
    "X = train_df[train_df.columns[1:]]\n",
    "Y = train_df[train_df.columns[:1]]"
   ]
  },
  {
   "cell_type": "code",
   "execution_count": null,
   "metadata": {},
   "outputs": [],
   "source": [
    "#ロジスティック回帰の学習・validationデータで精度を見積もる\n",
    "LRmodel = LogisticRegression()\n",
    "LRmodel.fit(train_X,train_Y)\n",
    "prediction1=LRmodel.predict(valid_X)\n",
    "print('The accuracy of the Logistic Regression is',metrics.accuracy_score(prediction1,valid_Y))"
   ]
  },
  {
   "cell_type": "code",
   "execution_count": null,
   "metadata": {},
   "outputs": [],
   "source": [
    "#決定木の学習・validationデータで精度を見積もる\n",
    "DTCmodel=DecisionTreeClassifier()\n",
    "DTCmodel.fit(train_X,train_Y)\n",
    "prediction2=DTCmodel.predict(valid_X)\n",
    "print('The accuracy of the Decision Tree is',metrics.accuracy_score(prediction2,valid_Y))"
   ]
  },
  {
   "cell_type": "code",
   "execution_count": null,
   "metadata": {},
   "outputs": [],
   "source": [
    "#ランダムフォレストで学習・validationデータで精度を見積もる\n",
    "RFCmodel=RandomForestClassifier(n_estimators=100)\n",
    "RFCmodel.fit(train_X,train_Y)\n",
    "prediction3=RFCmodel.predict(valid_X)\n",
    "print('The accuracy of the Random Forests is',metrics.accuracy_score(prediction3,valid_Y))"
   ]
  },
  {
   "cell_type": "code",
   "execution_count": null,
   "metadata": {},
   "outputs": [],
   "source": [
    "#LightGBMで学習\n",
    "LGBMmodel=lgm.LGBMClassifier(objective=\"binary\")\n",
    "LGBMmodel.fit(train_X,train_Y, eval_set=[(valid_X, valid_Y)], early_stopping_rounds=20, verbose=10)"
   ]
  },
  {
   "cell_type": "code",
   "execution_count": null,
   "metadata": {},
   "outputs": [],
   "source": [
    "#LightGBMの学習結果の精度をvalidationデータで見積もる\n",
    "prediction4=LGBMmodel.predict(valid_X)\n",
    "print('The accuracy of the Random Forests is',metrics.accuracy_score(prediction4,valid_Y))"
   ]
  },
  {
   "cell_type": "code",
   "execution_count": null,
   "metadata": {},
   "outputs": [],
   "source": [
    "#XGBoostで学習・validationデータで精度を見積もる\n",
    "XGmodel=xg.XGBClassifier(n_estimators=900,learning_rate=0.1)\n",
    "predict5=cross_val_score(XGmodel,X,Y,cv=10,scoring='accuracy')\n",
    "print('The cross validated score for XGBoost is:',predict5.mean())"
   ]
  },
  {
   "cell_type": "code",
   "execution_count": null,
   "metadata": {},
   "outputs": [],
   "source": [
    "#テストデータの推定を行うための準備を行う\n",
    "test_df.head()"
   ]
  },
  {
   "cell_type": "code",
   "execution_count": null,
   "metadata": {},
   "outputs": [],
   "source": [
    "#Ageカラムを補間するためにhonorificsカラムを作成する\n",
    "test_df['honorifics'] = test_df.Name.str.extract(' ([A-Za-z]+)\\.', expand=False)"
   ]
  },
  {
   "cell_type": "code",
   "execution_count": null,
   "metadata": {},
   "outputs": [],
   "source": [
    "#テストデータに含まれる敬称を確認する。トレーニングデータと比較する\n",
    "test_df.Name.str.extract(\"([A-Za-z]+)\\.\", expand=False).value_counts()"
   ]
  },
  {
   "cell_type": "code",
   "execution_count": null,
   "metadata": {},
   "outputs": [],
   "source": [
    "#トレーニングデータには含まれない敬称の\"Dona\"を持つデータを確認する\n",
    "test_df[test_df[\"honorifics\"] == \"Dona\"]"
   ]
  },
  {
   "cell_type": "code",
   "execution_count": null,
   "metadata": {},
   "outputs": [],
   "source": [
    "#敬称を元にAgeカラムを補間する。\n",
    "#補間するための値はトレーニングデータで用いた値と同じものを用いる\n",
    "test_df.loc[(test_df.Age.isnull())&(test_df.honorifics==\"Mr\"), \"Age\"]=32\n",
    "test_df.loc[(test_df.Age.isnull())&(test_df.honorifics==\"Miss\"), \"Age\"]=22\n",
    "test_df.loc[(test_df.Age.isnull())&(test_df.honorifics==\"Mrs\"), \"Age\"]=36\n",
    "test_df.loc[(test_df.Age.isnull())&(test_df.honorifics==\"Master\"), \"Age\"]=5\n",
    "test_df.loc[(test_df.Age.isnull())&(test_df.honorifics==\"Rev\"), \"Age\"]=43\n",
    "test_df.loc[(test_df.Age.isnull())&(test_df.honorifics==\"Col\"), \"Age\"]=58\n",
    "test_df.loc[(test_df.Age.isnull())&(test_df.honorifics==\"Ms\"), \"Age\"]=28\n",
    "test_df.loc[(test_df.Age.isnull())&(test_df.honorifics==\"Dr\"), \"Age\"]=42"
   ]
  },
  {
   "cell_type": "code",
   "execution_count": null,
   "metadata": {},
   "outputs": [],
   "source": [
    "#Fareカラムが欠損しているデータを確認する\n",
    "test_df.loc[test_df.Fare.isnull()]"
   ]
  },
  {
   "cell_type": "code",
   "execution_count": null,
   "metadata": {},
   "outputs": [],
   "source": [
    "#テストデータFareカラムの欠損しているデータと似た情報を持つデータをトレーニングデータから抜き出す\n",
    "train2_df = pd.read_csv('../input/titanic/train.csv')\n",
    "train_df[(train2_df.Age>= 55)&(train2_df.Age<=65)&(train2_df.Sex==\"male\")&(train2_df.Embarked==\"S\")]"
   ]
  },
  {
   "cell_type": "code",
   "execution_count": null,
   "metadata": {},
   "outputs": [],
   "source": [
    "#抜き出したデータのFareの平均値を計算する。\n",
    "train_df[(train2_df.Age>= 55)&(train2_df.Age<=65)&(train2_df.Sex==\"male\")&(train2_df.Embarked==\"S\")].Fare.mean()"
   ]
  },
  {
   "cell_type": "code",
   "execution_count": null,
   "metadata": {},
   "outputs": [],
   "source": [
    "#上記で計算した平均値でテストデータを補間する\n",
    "test_df.loc[(test_df.Fare.isnull()), \"Fare\"]=38"
   ]
  },
  {
   "cell_type": "code",
   "execution_count": null,
   "metadata": {},
   "outputs": [],
   "source": [
    "#テストデータでもFamilyカラムとAloneカラムを作成する\n",
    "test_df[\"Family\"] = 0\n",
    "test_df[\"Family\"] = test_df[\"Parch\"] + test_df[\"SibSp\"]\n",
    "test_df[\"Alone\"] = 0\n",
    "test_df.loc[test_df.Family==0, \"Alone\"] = 1"
   ]
  },
  {
   "cell_type": "code",
   "execution_count": null,
   "metadata": {},
   "outputs": [],
   "source": [
    "#Sexカラム・Embarkedカラムを文字列型から数値型に変換する\n",
    "test_df[\"Sex\"].replace([\"male\", \"female\"], [0, 1], inplace=True)\n",
    "test_df[\"Embarked\"].replace([\"S\", \"C\", \"Q\"], [0, 1, 2], inplace=True)"
   ]
  },
  {
   "cell_type": "code",
   "execution_count": null,
   "metadata": {},
   "outputs": [],
   "source": [
    "#不要なカラムを削除する\n",
    "test_df.drop([\"PassengerId\", \"Name\", \"Ticket\", \"honorifics\", \"Cabin\"], axis=1, inplace=True)"
   ]
  },
  {
   "cell_type": "code",
   "execution_count": null,
   "metadata": {},
   "outputs": [],
   "source": [
    "#学習に用いたトレーニングデータと同じカラム・値になっているか確認する\n",
    "test_df.head()"
   ]
  },
  {
   "cell_type": "code",
   "execution_count": null,
   "metadata": {},
   "outputs": [],
   "source": [
    "#validation結果が一番良かったランダムフォレストのモデルを用いてテストデータのSurvivedを予測\n",
    "prediction = RFCmodel.predict(test_df)"
   ]
  },
  {
   "cell_type": "code",
   "execution_count": null,
   "metadata": {},
   "outputs": [],
   "source": [
    "#予測結果を整理して、csvファイルにする（kaggle特有の処理）\n",
    "submission = pd.read_csv('../input/titanic/gender_submission.csv')\n",
    "submission[\"Survived\"] = prediction\n",
    "submission.to_csv('submission.csv', index=False)"
   ]
  }
 ],
 "metadata": {
  "kernelspec": {
   "display_name": "Python 3",
   "language": "python",
   "name": "python3"
  },
  "language_info": {
   "codemirror_mode": {
    "name": "ipython",
    "version": 3
   },
   "file_extension": ".py",
   "mimetype": "text/x-python",
   "name": "python",
   "nbconvert_exporter": "python",
   "pygments_lexer": "ipython3",
   "version": "3.7.3"
  }
 },
 "nbformat": 4,
 "nbformat_minor": 2
}
